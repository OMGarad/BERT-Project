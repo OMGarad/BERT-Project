{
 "cells": [
  {
   "cell_type": "code",
   "execution_count": 158,
   "source": [
    "file1= open(r'Extracted_Hindi_Adverbs.txt', 'r', encoding= 'utf-8')\r\n",
    "input1= file1.readlines()"
   ],
   "outputs": [],
   "metadata": {}
  },
  {
   "cell_type": "code",
   "execution_count": 159,
   "source": [
    "file2= open(r'Cleaned_Translated_Adverbs.txt', 'r', encoding= 'utf-8')\r\n",
    "input2= file2.readlines()"
   ],
   "outputs": [],
   "metadata": {}
  },
  {
   "cell_type": "code",
   "execution_count": 160,
   "source": [
    "file3= open(r'Adverbs_Dataset.txt', 'w', encoding='utf-8')\r\n"
   ],
   "outputs": [],
   "metadata": {}
  },
  {
   "cell_type": "code",
   "execution_count": 161,
   "source": [
    "print(type(input1))"
   ],
   "outputs": [
    {
     "output_type": "stream",
     "name": "stdout",
     "text": [
      "<class 'list'>\n"
     ]
    }
   ],
   "metadata": {}
  },
  {
   "cell_type": "code",
   "execution_count": 162,
   "source": [
    "print(len(input1))"
   ],
   "outputs": [
    {
     "output_type": "stream",
     "name": "stdout",
     "text": [
      "1058\n"
     ]
    }
   ],
   "metadata": {}
  },
  {
   "cell_type": "code",
   "execution_count": 163,
   "source": [
    "print(len(input2))"
   ],
   "outputs": [
    {
     "output_type": "stream",
     "name": "stdout",
     "text": [
      "1059\n"
     ]
    }
   ],
   "metadata": {}
  },
  {
   "cell_type": "code",
   "execution_count": 164,
   "source": [
    "l=[]\r\n",
    "for i in range(len(input1)):\r\n",
    "    line = input2[i].strip() + '\\t' + input1[i]\r\n",
    "    l.append(line)\r\n",
    "    file3.write(line)"
   ],
   "outputs": [],
   "metadata": {}
  },
  {
   "cell_type": "code",
   "execution_count": 165,
   "source": [
    "print(type(l))"
   ],
   "outputs": [
    {
     "output_type": "stream",
     "name": "stdout",
     "text": [
      "<class 'list'>\n"
     ]
    }
   ],
   "metadata": {}
  },
  {
   "cell_type": "code",
   "execution_count": 166,
   "source": [
    "print(len(l))"
   ],
   "outputs": [
    {
     "output_type": "stream",
     "name": "stdout",
     "text": [
      "1058\n"
     ]
    }
   ],
   "metadata": {}
  },
  {
   "cell_type": "code",
   "execution_count": 167,
   "source": [
    "print(l)"
   ],
   "outputs": [
    {
     "output_type": "stream",
     "name": "stdout",
     "text": [
      "['marksman\\tअंचकैं\\n', 'At the end\\tअंत_में\\n', 'finally\\tअंततः\\n', 'eventually\\tअंततोगत्वा\\n', 'last_dum_till\\tअंतिम_दम_तक\\n', 'Inside\\tअंदर\\n', 'guess\\tअंदाजन\\n', 'guess\\tअंदाज़न\\n', 'indiscriminate\\tअंधाधुंध\\n', 'often\\tअकसर\\n', 'all of a sudden\\tअकस्मात\\n', 'suddenly\\tअकस्मात्\\n', 'Causeless\\tअकारण\\n', 'Lonely\\tअकेला\\n', 'Lonely\\tअकेले\\n', 'randomly\\tअक्रमतः\\n', 'literally\\tअक्षरशः\\n', 'often\\tअक्सर\\n', 'Agatya\\tअगत्या\\n', 'if\\tअगर\\n', 'Side by side\\tअगल-बगल\\n', 'side by side\\tअग़ल-बग़ल\\n', 'secretly\\tअगुप्ततः\\n', 'in advance\\tअग्रतः\\n', 'forward\\tअग्रे\\n', 'Ack\\tअचक\\n', 'suddenly\\tअचांचक\\n', 'suddenly\\tअचाक\\n', 'achaka\\tअचाका\\n', 'achan\\tअचान\\n', 'suddenly\\tअचानक\\n', 'achir\\tअचिर\\n', 'Good\\tअच्छा\\n', 'Properly\\tअच्छी_तरह\\n', 'properly\\tअच्छी_तरह_से\\n', 'azhun\\tअजहुँ\\n', 'azhun\\tअजहूँ\\n', 'ajo\\tअजो\\n', 'ajaun\\tअजौं\\n', 'eightfold\\tअठगुना\\n', 'neighbourhood\\tअड़ोस-पड़ोस\\n', 'Therefore\\tअतः\\n', 'so\\tअतएव\\n', 'atarson\\tअतरसों\\n', 'Immediately\\tअतिशीघ्र\\n', 'very quickly\\tअतिशीघ्रतः\\n', 'in the past\\tअतीत_में\\n', 'extremely\\tअत्यंत\\n', 'Excessive\\tअत्यधिक\\n', 'extremely\\tअत्यन्त\\n', 'that\\tअथ\\n', 'up to date\\tअद्य\\n', 'half\\tअधः\\n', 'more\\tअधिक\\n', 'mostly\\tअधिकतः\\n', 'mostly\\tअधिकतर\\n', 'mostly\\tअधिकांशतः\\n', 'mostly\\tअधिकांशतया\\n', 'rightfully\\tअधिकारतः\\n', 'rightfully\\tअधिकारपूर्वक\\n', 'undeniably\\tअधिकारहीनतः\\n', 'in subordination\\tअधीनता_में\\n', 'Adhuna\\tअधुना\\n', 'downwards\\tअधो_दिशा_में\\n', 'underside\\tअधोरध\\n', 'semi\\tअधोर्ध\\n', 'semi-circular\\tअधौर्द्ध\\n', 'presiding\\tअध्यक्षर\\n', 'Anantar\\tअनंतर\\n', 'almost\\tअनकरीब\\n', 'unqarib\\tअनक़रीब\\n', 'unwanted\\tअनचाहे\\n', 'anat\\tअनत\\n', 'authority\\tअनधिकार\\n', 'infinity\\tअनन्तर\\n', 'unsolicited\\tअनमाँगे\\n', 'unmikh\\tअनमिख\\n', 'period\\tअनवधि\\n', 'relentlessly\\tअनवरत\\n', 'unusually\\tअनसूयतः\\n', 'unthinking\\tअनसोचे\\n', 'unqualified\\tअनहक\\n', 'Incidentally\\tअनागतः\\n', 'spontaneously\\tअनायास\\n', 'unworthy\\tअनाहक\\n', 'unmistakable\\tअनिमिख\\n', 'unintentional\\tअनिमित्त\\n', 'blinking\\tअनिमिष\\n', 'high pitched\\tअनिमेष\\n', 'Anish\\tअनिश\\n', 'Friendly\\tअनुकूल\\n', 'monitoring\\tअनुक्षण\\n', 'Today\\tअनुदिन\\n', 'day\\tअनुदिवस\\n', 'unprofessional\\tअनुपद\\n', 'presumably\\tअनुमानतः\\n', 'Anuvatsara\\tअनुवत्सर\\n', 'According\\tअनुसार\\n', 'many times\\tअनेकधा\\n', 'many times\\tअनेकशः\\n', 'Anera\\tअनेरा\\n', 'like this\\tअनैसे\\n', 'inside\\tअन्दर\\n', 'guess\\tअन्दाजन\\n', 'guess\\tअन्दाज़न\\n', 'otherwise\\tअन्यतः\\n', 'elsewhere\\tअन्यत्र\\n', 'otherwise\\tअन्यदा\\n', 'anas\\tअन्यास\\n', 'otheryu\\tअन्येद्यु\\n', 'vestibule\\tअन्वक्ष\\n', \"on one's own\\tअपनेआप\\n\", 'according to crime\\tअपराधानुसार\\n', 'Aplk\\tअपलक\\n', 'Aparth\\tअपार्थ\\n', 'expected\\tअपेक्षया\\n', 'Relatively\\tअपेक्षाकृत\\n', 'incompetent\\tअप्रतीष\\n', 'unexpectedly\\tअप्रत्याशिततः\\n', 'effortlessly\\tअप्रयत्नतः\\n', 'unhappily\\tअप्रसन्नतापूर्वक\\n', 'Now\\tअब\\n', 'now_ki\\tअब_की\\n', 'till now\\tअब_तक\\n', 'now\\tअबकी\\n', 'till now\\tअबतक\\n', 'without\\tअबलग\\n', 'Afraid\\tअभरम\\n', 'proudly\\tअभिमान_से\\n', 'proudly\\tअभिमानपूर्वक\\n', 'oriented\\tअभिमुख\\n', 'stationary\\tअभिस्थिर\\n', 'Now\\tअभी\\n', 'right now\\tअभी_अभी\\n', 'So far\\tअभी_तक\\n', 'just now\\tअभी_ही\\n', 'right now\\tअभी-अभी\\n', 'So far\\tअभीतक\\n', 'abu\\tअभू\\n', 'unreasonably\\tअयाचिततः\\n', 'Separate\\tअलग\\n', 'However\\tअलबत्ता\\n', 'isolated\\tअलहदा\\n', 'sparingly\\tअल्पतः\\n', 'Sure\\tअवश्य\\n', 'must\\tअवश्यमेव\\n', 'continuous\\tअविरत\\n', 'Without delay\\tअविलंब\\n', 'without delay\\tअविलम्ब\\n', 'haphazardly\\tअव्यवस्थिततः\\n', 'rudely\\tअशिष्टतः\\n', 'quickly\\tअशीघ्रतः\\n', 'rudely\\tअसभ्यतः\\n', 'untimely\\tअसमय\\n', 'In fact\\tअसल_में\\n', 'inadvertently\\tअसावधानतः\\n', 'inadvertently\\tअसावधानी_से\\n', 'Helter Skelter\\tअस्त-व्यस्त\\n', 'vaguely\\tअस्पष्टतः\\n', 'Ainda\\tआइन्दा\\n', 'ear\\tआकर्ण\\n', 'at last\\tआख़िर\\n', 'after all\\tआख़िरकार\\n', 'after all\\tआखिर\\n', 'Finally\\tआखिरकार\\n', 'ahead\\tआगे\\n', 'forward_toward_towards\\tआगे_की_ओर\\n', 'Front Back\\tआगे_पीछे\\n', 'In front\\tआगे-आगे\\n', 'Front Back\\tआगे-पीछे\\n', 'Front Back\\tआगेपीछे\\n', 'Today\\tआज\\n', 'These days\\tआज_कल\\n', 'Till date\\tआज_तक\\n', 'These days\\tआज-कल\\n', 'These days\\tआजकल\\n', 'Till date\\tआजतक\\n', 'lifelong\\tआजीवन\\n', 'side by side\\tआजू-बाजू\\n', 'as ordered\\tआज्ञानुसार\\n', 'obediently\\tआज्ञापूर्वक\\n', 'eight times\\tआठगुना\\n', 'eight hours\\tआठों_पहर\\n', 'terrifyingly\\tआतंकपूर्वक\\n', 'Habitually\\tआदतन\\n', 'with respect\\tआदर_सहित\\n', 'etc_in\\tआदि_में\\n', 'by order\\tआदेश_से\\n', 'by order\\tआदेशपूर्वक\\n', 'as ordered\\tआदेशानुसार\\n', 'end to end\\tआद्योपांत\\n', 'end to end\\tआद्योपान्त\\n', 'On the basis\\tआधार_पर\\n', 'You\\tआप\\n', 'Among themselves\\tआपस_में\\n', 'you yourself\\tआपही\\n', 'In general\\tआमतौर_पर\\n', 'usually_se\\tआमतौर_से\\n', 'to death\\tआमरण\\n', 'radical\\tआमूलचूल\\n', 'in the beginning\\tआरंभ_में\\n', 'astonishingly\\tआश्चर्यपूर्वक\\n', 'Nearby\\tआस-पास\\n', 'Nearby\\tआसपास\\n', 'easily\\tआसानी_से\\n', 'slowly\\tआहिस्ता\\n', 'slowly\\tआहिस्ता_से\\n', 'Gradually\\tआहिस्ता-आहिस्ता\\n', 'slowly\\tआहिस्ते\\n', 'slowly\\tआहिस्ते_से\\n', 'gradually\\tआहिस्ते-आहिस्ते\\n', 'to wish\\tइच्छा_से\\n', 'wishful\\tइच्छानुकुल\\n', 'as desired\\tइच्छानुसार\\n', 'this much only\\tइतना_ही\\n', 'in this much\\tइतने_में\\n', 'by chance\\tइत्तफ़ाक़न\\n', 'coincidence\\tइत्तफाकन\\n', 'here\\tइधर\\n', 'These days\\tइन_दिनों\\n', 'intentional\\tइरादतन\\n', 'with intent\\tइरादे_से\\n', 'around\\tइर्द-गिर्द\\n', 'on this side\\tइस_ओर\\n', 'this place\\tइस_जगह\\n', 'in such a way\\tइस_तरह\\n', 'in the meantime\\tइस_दरम्यान\\n', 'During this\\tइस_दौरान\\n', 'Thus\\tइस_प्रकार\\n', 'This time\\tइस_बार\\n', 'in between\\tइस_बीच\\n', 'This time\\tइस_समय\\n', 'This time\\tइसबार\\n', 'Therefore\\tइसलिए\\n', 'this instant\\tइसी_क्षण\\n', 'in the meantime\\tइसी_बीच\\n', 'right now\\tइसी_वक्त\\n', \"that's why\\tइसीलिए\\n\", 'jealously\\tईर्ष्यतः\\n', 'jealously\\tईर्ष्यापूर्वक\\n', 'jealously\\tईर्ष्याहीनतः\\n', 'Ukudu\\tउकडू\\n', 'tear up\\tउकडूँ\\n', 'liberally\\tउदारतापूर्वक\\n', 'example_format\\tउदाहरण_स्वरूप\\n', 'for example\\tउदाहरणतः\\n', 'for example\\tउदाहरणार्थ\\n', 'objectively\\tउद्देश्यतः\\n', 'purposefully\\tउद्देश्यपूर्वक\\n', 'aimlessly\\tउद्देश्यहीनतः\\n', 'disturbingly\\tउद्विग्नतः\\n', 'anxiously\\tउद्विग्नतापूर्वक\\n', 'there\\tउधर\\n', 'after\\tउपरांत\\n', 'after\\tउपरान्त\\n', 'Remedy_se\\tउपाय_से\\n', 'by means of\\tउपायतः\\n', 'probably\\tउभयतः\\n', 'Forever\\tउम्रभर\\n', 'inverted\\tउलटा_पुलटा\\n', 'invert\\tउलटा-पलटा\\n', 'invert\\tउलटा-पुलटा\\n', 'Disorderly\\tउल्टा_पुल्टा\\n', 'upside down\\tउल्टा-पल्टा\\n', 'Disorderly\\tउल्टा-पुल्टा\\n', 'that side\\tउस_ओर\\n', 'That place\\tउस_जगह\\n', 'like that\\tउस_तरह\\n', 'at that time\\tउस_वक्त\\n', 'That time\\tउस_समय\\n', 'like that\\tउसी_तरह\\n', 'height_at\\tऊँचाई_पर\\n', 'up\\tऊपर\\n', 'Down up\\tऊपर-नीचे\\n', 'vertical\\tऊर्द्ध्व\\n', 'vertical\\tऊर्ध्व\\n', 'a_a_dug\\tएक_एक_डग\\n', 'Aside\\tएक_ओर\\n', 'one side\\tएक_तरफ\\n', 'one way\\tएक_तरफ़\\n', 'with each other\\tएक_दूसरे_से\\n', 'single\\tएकंग\\n', 'united\\tएकजुट\\n', 'lonely\\tएकटक\\n', 'At once\\tएकदम\\n', 'One-off\\tएकबारगी\\n', 'the only\\tएकमेव\\n', 'all of a sudden\\tएकाएक\\n', 'lonely\\tएकाकी\\n', 'This way\\tऐसे\\n', 'Just like that\\tऐसे_ही\\n', 'Average\\tऔसतन\\n', 'many times\\tकई_बार\\n', 'hardly\\tकठिनतः\\n', 'with difficulty\\tकठिनाई_से\\n', 'Harshly\\tकठोरता_से\\n', 'Hard\\tकड़ा\\n', 'Sternly dealt with\\tकड़ाई_से\\n', 'absolutely\\tकतई\\n', 'at all\\tकत्तई\\n', 'according to the statement\\tकथनानुसार\\n', 'step by step\\tकदम-ब_कदम\\n', 'never\\tकदापि\\n', 'When\\tकब\\n', 'Till when\\tकब_तक\\n', 'sometimes\\tकभी\\n', 'Occasionally\\tकभी_न_कभी\\n', 'anytime\\tकभी_भी\\n', 'Sometimes\\tकभी-कभार\\n', 'Sometimes\\tकभी-कभी\\n', 'Sometimes\\tकभीकभार\\n', 'Sometimes\\tकभीकभी\\n', 'more or less\\tकमबेश\\n', 'more or less\\tकमोबेश\\n', 'Kareena wise\\tकरीनावार\\n', 'neatly\\tकरीने_से\\n', 'near\\tकरीब\\n', 'More like\\tकरीबकरीब\\n', 'almost\\tकरीबन\\n', 'according to deeds\\tकर्मानुसार\\n', 'Tomorrow\\tकल\\n', 'for welfare\\tकल्याणार्थ\\n', 'tightly\\tकसकर\\n', 'as told\\tकहनानुसार\\n', 'Where\\tकहाँ\\n', 'somewhere\\tकहीं\\n', 'somewhere else\\tकहीं_और\\n', 'say\\tकहुँ\\n', 'say\\tकहूँ\\n', 'as said\\tकहे_अनुसार\\n', 'according to\\tकहे_मुताबिक\\n', 'according to say\\tकहे_मुताबिक़\\n', 'step_by_step\\tक़दम_ब_क़दम\\n', 'side by side\\tक़रीनावार\\n', 'neatly\\tक़रीने_से\\n', 'close\\tक़रीब\\n', 'close to\\tक़रीब_में\\n', 'close to\\tक़रीबक़रीब\\n', 'almost\\tक़रीबन\\n', 'Legally\\tक़ानूनन\\n', 'legally\\tक़ायदे_से\\n', 'installment_by_installment\\tक़िस्त_दर_क़िस्त\\n', 'installment wise\\tक़िस्तवार\\n', 'in installments\\tक़िस्तों_में\\n', 'by law\\tकानूनन\\n', 'enough\\tकाफ़ी\\n', 'enough\\tकाफी\\n', 'from work\\tकाम_से\\n', 'because of\\tकारण_से\\n', 'due to\\tकारणवश\\n', 'without reason\\tकारणहीनतः\\n', 'over a period of time\\tकालांतर_में\\n', 'Bewildered\\tकिंकर्तव्य-विमूढ़\\n', 'Bewildered\\tकिंकर्तव्यविमूढ़\\n', 'out of duty\\tकिंकर्त्तव्य-विमूढ़\\n', 'oblivious\\tकिंकर्त्तव्यविमूढ़\\n', 'where\\tकिधर\\n', 'for what\\tकिस_वास्ते\\n', 'Why\\tकिसलिए\\n', 'Once upon a time\\tकिसी_समय\\n', 'installment wise\\tकिस्तवार\\n', 'Some\\tकुछ\\n', 'in totality\\tकुल_मिलाकर\\n', 'maliciously\\tकुविधिपूर्वक\\n', 'skillfully\\tकुशलतापूर्वक\\n', 'Skillfully\\tकुशलपूर्वक\\n', 'premature\\tकुसमय\\n', 'gratefully\\tकृतज्ञतापूर्वक\\n', 'Please\\tकृपया\\n', 'please\\tकृपा_कर_के\\n', 'please\\tकृपा_करके\\n', 'kindly\\tकृपा_पूर्वक\\n', 'kindly\\tकृपापूर्वक\\n', 'inside\\tके_अंदर\\n', 'Inside\\tके_अन्दर\\n', 'inside\\tके_भीतर\\n', 'In college\\tकेवल\\n', 'How\\tकैसे\\n', 'why\\tक्यूँकर\\n', 'Why\\tक्यों\\n', 'why\\tक्योंकर\\n', 'sequentially\\tक्रमवार\\n', 'respectively\\tक्रमशः\\n', 'randomly\\tक्रमहीनतः\\n', 'sequentially\\tक्रमानुसार\\n', 'brutally\\tक्रूरतापूर्वक\\n', 'moment by moment\\tक्षण-क्षण\\n', 'moment to moment\\tक्षणक्षण\\n', 'as per capacity\\tक्षमतानुसार\\n', 'packed\\tखचाखच\\n', 'Khatak_se\\tखटाक_से\\n', 'Bad\\tखराब\\n', 'silently\\tख़ामोशी_से\\n', 'empty\\tख़ाली\\n', 'especially\\tख़ास_तौर_पर\\n', 'specially\\tख़ास_तौर_से\\n', 'especially\\tख़ासकर\\n', 'especially\\tख़ासतौर_पर\\n', 'specially\\tख़ासतौर_से\\n', 'myself\\tख़ुद\\n', 'myself\\tख़ुद_ही\\n', 'by itself\\tख़ुद-ब-ख़ुद\\n', 'myself\\tख़ुदबख़ुद\\n', 'happily\\tख़ुशी_ख़ुशी\\n', 'happily\\tख़ुशी_से\\n', 'great\\tख़ूब\\n', 'silence_se\\tखामोशी_से\\n', 'Empty\\tखाली\\n', 'Especially\\tखासकर\\n', 'especially\\tखासतौर_पर\\n', 'especially from\\tखासतौर_से\\n', 'Self\\tखुद\\n', 'on its own\\tखुद-ब-खुद\\n', 'on its own\\tखुदबखुद\\n', 'frankly\\tखुल_कर\\n', 'frankly\\tखुलकर\\n', 'openly\\tखुले_तौर_पर\\n', 'openly\\tखुले-आम\\n', 'openly\\tखुलेआम\\n', 'openly\\tखुल्लम_खुल्ला\\n', 'frankly\\tखुल्लम-खुल्ला\\n', 'frankly\\tखुल्लमखुल्ला\\n', 'happily\\tखुशी_खुशी\\n', 'with pleasure\\tखुशी_से\\n', 'Plenty\\tखूब\\n', 'In fun\\tखेल_खेल_में\\n', 'wrong_time_at\\tगलत_वक्त_पर\\n', 'wrong_time_at\\tगलत_समय_पर\\n', 'depth_in\\tगहराई_में\\n', 'deep\\tगहरे\\n', 'at the wrong time\\tग़लत_वक़्त_पर\\n', 'wrong_at_times\\tग़लत_समय_पर\\n', 'falling down\\tगिरते_पड़ते\\n', 'falling down\\tगिरते-पड़ते\\n', 'secretly\\tगुपचुप_रूप_से\\n', 'secretly\\tगुप्ततः\\n', 'home_home\\tघर_घर\\n', 'house to house\\tघर-घर\\n', 'quick\\tचटपट\\n', 'quadrilateral\\tचतुर्गुण\\n', 'four ways\\tचहुँ_ओर\\n', 'four_fold\\tचार_गुना\\n', 'four times\\tचारगुना\\n', 'customs\\tचारनाचार\\n', 'Everywhere\\tचारों_ओर\\n', 'all around\\tचारों_तरफ़\\n', 'in all directions\\tचारों_दिशाओं_में\\n', 'without worry\\tचिंताहीनतः\\n', 'anxiously\\tचिंतिततः\\n', 'Silent\\tचुप\\n', 'quietly\\tचुपके_से\\n', 'silently\\tचुपके-चुपके\\n', 'Silently\\tचुपचाप\\n', 'agility_se\\tचुस्ती_से\\n', 'bangle\\tचूड़ांत\\n', 'chute\\tचूड़ान्त\\n', 'stealthily\\tचोरी_छिपे\\n', 'square_in\\tचौकोर_में\\n', 'quadruple\\tचौगुना\\n', 'quadruple\\tचौबारा\\n', 'six times\\tछःगुना\\n', 'chum-chum\\tछम-छम\\n', 'Chhamchham\\tछमछम\\n', 'six times\\tछहगुना\\n', 'snatch\\tछिन-छिन\\n', 'snatch\\tछिनछिन\\n', 'dissipated\\tछिन्न-भिन्न\\n', 'quadruple\\tछौगुना\\n', 'in place\\tजगह-जगह_पर\\n', 'When\\tजब\\n', 'Unless\\tजब_तक\\n', 'forcefully\\tजबरदस्ती\\n', 'Forcibly\\tजबरन\\n', 'fiercely\\tजमकर\\n', 'just\\tजरा\\n', 'Of course\\tजरूर\\n', 'Soon\\tजल्द\\n', 'as soon as possible\\tजल्द_से_जल्द\\n', 'Soon\\tजल्दी\\n', 'soon_quickly\\tजल्दी_से_जल्दी\\n', 'Where\\tजहाँ\\n', 'wherever\\tजहाँ_तहाँ\\n', 'coercion\\tज़बरदस्ती\\n', 'forcibly\\tज़बरन\\n', 'please\\tज़रा\\n', 'Sure\\tज़रूर\\n', 'lifetime\\tज़िंदगीभर\\n', 'loudly\\tज़ोर_से\\n', 'loudly\\tज़ोर-शोर_से\\n', 'louder_se\\tज़ोरशोर_से\\n', 'loudly\\tज़ोरों_से\\n', 'more\\tज़्यादा\\n', 'test\\tजाँच_परख_कर\\n', 'by checking\\tजाँच_परखकर\\n', 'intentionally\\tजान-बूझकर\\n', 'intentionally\\tजानबूझकर\\n', 'lifelong\\tजिंदगीभर\\n', 'Yes\\tजी\\n', 'Yes\\tजी_हाँ\\n', 'Lifelong\\tजीवनभर\\n', 'by making efforts\\tजुगत_लगाकर\\n', 'like_ka_sway\\tजैसे_का_तैसे\\n', 'somehow\\tजैसे_तैसे\\n', 'by letting\\tजैसे_भी_हो\\n', 'like_ho\\tजैसे_हो\\n', 'as\\tजैसे-जैसे\\n', 'somehow\\tजैसे-तैसे\\n', 'Loudly\\tजोर_से\\n', 'In full Swing\\tजोर-शोर_से\\n', 'vigorous\\tजोरदार\\n', 'In full Swing\\tजोरशोर_से\\n', 'loudly\\tजोरों_से\\n', 'More\\tज्यादा\\n', 'mostly\\tज्यादातर\\n', 'As it is\\tज्यों_का_त्यों\\n', 'as soon as\\tज्यों-ज्यों\\n', 'jerks_with_with\\tझटके_के_साथ\\n', 'with a jerk\\tझटके_से\\n', 'instant\\tझटपट\\n', 'lies\\tझूठ-मूठ\\n', 'tuck-tuck\\tटक-टक\\n', 'gaze_se\\tटकटकी_से\\n', 'Tanatan\\tटनाटन\\n', 'Staring at someone\\tटुकुर_टुकुर\\n', 'cold_cold\\tठंडे_ठंडे\\n', 'cold and cold\\tठंडे-ठंडे\\n', 'frosty\\tठंढे_ठंढे\\n', 'frosty\\tठंढे-ठंढे\\n', 'chock\\tठसाठस\\n', 'pause\\tठहर_ठहर_कर\\n', 'Fine\\tठीक\\n', 'properly\\tठीक_से\\n', 'ok\\tठीक-ठाक\\n', 'ok\\tठीक-ठाक_से\\n', 'ok\\tठीकठाक\\n', 'thump\\tठुँसाठुँस\\n', 'chubby\\tठुसाठुस\\n', 'dunk_ki_hurt_per\\tडंके_की_चोट_पर\\n', 'bout\\tडटकर\\n', 'bragging\\tडींग_मारते_हुए\\n', 'properly\\tढंग_से\\n', 'About\\tतकरीबन\\n', 'almost\\tतक़रीबन\\n', 'early morning\\tतड़_से\\n', 'early morning\\tतड़के\\n', 'tadak_se\\tतड़ाक_से\\n', 'early morning\\tतड़ातड़\\n', 'thereafter\\tततपश्चात\\n', 'Immediately\\tतत्काल\\n', 'immediately\\tतत्क्षण\\n', 'Subsequently\\tतदंतर\\n', 'Thereafter\\tतदउपरांत\\n', 'Subsequently\\tतदनंतर\\n', 'Subsequently\\tतदनन्तर\\n', 'Subsequently\\tतदन्तर\\n', 'thereupon\\tतदुपरांत\\n', 'thereupon\\tतदुपरान्त\\n', 'Thereafter\\tतदोपरांत\\n', 'after that\\tतदोपरान्त\\n', 'secluded\\tतनहा\\n', 'a little\\tतनिक\\n', 'lonely\\tतन्हा\\n', 'Tapak_se\\tतपाक_से\\n', 'Then\\tतब\\n', 'Until then\\tतब_तक\\n', 'trick_se\\tतरकीब_से\\n', 'krative_se\\tतरतीब_से\\n', 'cravings\\tतरसों\\n', 'way_by\\tतरीक़े_से\\n', 'In a proper way\\tतरीके_से\\n', 'Underneath\\tतले\\n', 'life\\tताउम्र\\n', 'speedy\\tताबड़तोड़\\n', 'triple\\tतिगुना\\n', 'dispersed\\tतितर-बितर\\n', 'again\\tतिबारा\\n', 'Three times\\tतीन_गुना\\n', 'Three times\\tतीनगुना\\n', 'Intense\\tतीव्र\\n', 'intensity_se\\tतीव्रता_से\\n', 'Immediately\\tतुरंत\\n', 'Immediately\\tतुरन्त\\n', 'in comparison\\tतुलना_में\\n', 'fast\\tतेज\\n', 'Fast\\tतेज़\\n', 'quickly\\tतेज़ी_से\\n', 'with speed\\tतेजी_से\\n', 'Tebara\\tतेबारा\\n', 'tremble\\tथरथर\\n', 'Some\\tथोड़ा\\n', 'a little bit\\tथोड़ा_थोड़ा\\n', 'a little bit\\tथोड़ा_सा\\n', 'little by little\\tथोड़ा-थोड़ा\\n', 'Danadan\\tदनादन\\n', 'mercifully\\tदया_से\\n', 'mercifully\\tदयापूर्वक\\n', 'rate to\\tदर-दर\\n', 'Dar-Badar\\tदर-बदर\\n', 'Actually\\tदरअसल\\n', 'bypassed\\tदरकिनार\\n', 'Actually\\tदरसाल\\n', 'for viewing\\tदर्शनार्थ\\n', 'ten times\\tदश_गुना\\n', 'tenfold\\tदशगुना\\n', 'ten times\\tदस_गुना\\n', 'ten times\\tदसगुना\\n', 'day and night\\tदिन_रात\\n', 'day to day\\tदिन-दिन\\n', 'day day\\tदिन-पर-दिन\\n', 'day to day\\tदिन-प्रतिदिन\\n', 'Day After day\\tदिन-ब_दिन\\n', 'Day After day\\tदिन-बदिन\\n', 'day and night\\tदिन-रात\\n', 'day by day\\tदिनदिन\\n', 'day to day\\tदिनप्रतिदिन\\n', 'Day After day\\tदिनबदिन\\n', 'All day\\tदिनभर\\n', 'day night\\tदिनरात\\n', 'day by day\\tदिनों-दिन\\n', 'day by day\\tदिनोंदिन\\n', 'double\\tदुगना\\n', 'double\\tदुगुना\\n', 'Again\\tदुबारा\\n', 'double\\tदूना\\n', 'Distant\\tदूर\\n', 'At a distance\\tदूरी_पर\\n', 'firmly\\tदृढ़तापूर्वक\\n', 'late in\\tदेर_में\\n', 'sooner or later\\tदेर-सवेर\\n', 'delay_by\\tदेरी_से\\n', 'ordinarily\\tदैववश\\n', 'divine\\tदैवात्\\n', 'double\\tदोगुना\\n', 'Again\\tदोबारा\\n', 'door to door\\tद्वार-द्वार\\n', 'diploid\\tद्विगुण\\n', 'diploid\\tद्विगुणित\\n', 'maliciously\\tद्वेषपूर्वक\\n', 'maliciously\\tद्वेषहीनतः\\n', 'quickly\\tधड़ाधड़\\n', 'charitable\\tधर्मार्थ\\n', 'slow\\tधीमे\\n', 'Slow\\tधीरे\\n', 'slowly\\tधीरे_धीरे\\n', 'slowly\\tधीरे-धीरे\\n', 'smog\\tधूआँधार\\n', 'carefully\\tध्यान_से\\n', 'carefully\\tध्यानपूर्वक\\n', 'mindlessly\\tध्यानहीनतः\\n', 'barefoot\\tनंगे_पैर\\n', 'near\\tनजदीक\\n', 'near\\tनज़दीक\\n', 'meekly\\tनम्रतापूर्वक\\n', 'nurses\\tनरसों\\n', 'null\\tनल्ल\\n', 'new times\\tनवगुना\\n', 'unhappily\\tनाख़ुशी_से\\n', 'unhappily\\tनाखुशी_से\\n', 'nominal\\tनाममात्र\\n', 'indignantly\\tनाराजगीपूर्वक\\n', 'annoyedly\\tनाराज़गीपूर्वक\\n', 'undeservedly\\tनाहक\\n', 'undeservedly\\tनाहक़\\n', 'without hesitation\\tनिःसंकोच\\n', 'no doubt\\tनिःसंदेह\\n', 'no doubt\\tनिःसन्देह\\n', 'selfless\\tनिःस्वार्थ\\n', 'Close\\tनिकट\\n', 'near_in\\tनिकट_में\\n', 'Nits\\tनित\\n', 'absolutely\\tनितांत\\n', 'absolutely\\tनितान्त\\n', 'Eternal\\tनित्य\\n', 'daily\\tनित्य_प्रति\\n', 'daily\\tनित्यप्रति\\n', 'tackle\\tनिपट\\n', 'blink-only\\tनिमिष-मात्र\\n', 'fanciful\\tनिमेष-मात्र\\n', 'as follows\\tनिम्नतः\\n', 'rule_se\\tनियम_से\\n', 'as per rules\\tनियमानुसार\\n', 'regularly\\tनियमिततः\\n', 'Continuous\\tनिरंतर\\n', 'continuously\\tनिरन्तर\\n', 'aimless\\tनिरुद्देश्य\\n', 'purposefully\\tनिरुद्देश्यतः\\n', 'mercilessly\\tनिर्दयता_से\\n', 'mercilessly\\tनिर्दयतापूर्वक\\n', 'blinking\\tनिर्निमिष\\n', 'formative\\tनिर्निमेख\\n', 'straight\\tनिर्निमेष\\n', 'definitely\\tनिश्चयपूर्वक\\n', 'certainly\\tनिश्चिंततः\\n', 'silent\\tनिश्शब्द\\n', 'conclusion\\tनिष्कारण\\n', 'without hesitation\\tनिसंकोच\\n', 'of course\\tनिसंदेह\\n', 'of course\\tनिसन्देह\\n', 'selfless\\tनिस्वार्थ\\n', 'without hesitation\\tनिस्संकोच\\n', 'of course\\tनिस्संदेह\\n', 'of course\\tनिस्सन्देह\\n', 'exceedingly\\tनिहायत\\n', 'Down\\tनीचे\\n', 'ninefold\\tनौगुना\\n', 'fivefold\\tपचगुना\\n', 'Board\\tपट\\n', 'belt\\tपट्ट\\n', 'post_post_post\\tपद_प्रति_पद\\n', 'according to tradition\\tपरंपरानुसार\\n', 'necessarily\\tपरवशतः\\n', 'percent\\tपरसेंट\\n', 'Day before\\tपरसों\\n', 'Mutually\\tपरस्पर\\n', 'subjectively\\tपराधीनतः\\n', 'the resulting\\tपरिणाम_स्वरूप\\n', 'consequently\\tपरिणामतः\\n', 'beyond\\tपरे\\n', 'every moment\\tपल_पल\\n', 'every moment\\tपल-पल\\n', 'moment\\tपल-भर\\n', 'moment\\tपलभर\\n', 'later\\tपश्चतः\\n', 'after\\tपश्चात\\n', 'after\\tपश्चात्\\n', 'Earlier\\tपहले\\n', 'the earliest\\tपहले_पहल\\n', 'already\\tपहले_से\\n', 'the earliest\\tपहले-पहल\\n', 'five times\\tपाँचगुना\\n', 'behind\\tपाछे\\n', 'near\\tपास\\n', 'Surroundings\\tपास_पड़ोस\\n', 'near\\tपास_में\\n', 'Surroundings\\tपास-पड़ोस\\n', 'in the last_days_\\tपिछले_दिनों_में\\n', 'behind\\tपीछे\\n', 'Following\\tपीछे-पीछे\\n', 'again\\tपुनः\\n', 'Complete\\tपूरा\\n', 'Fully\\tपूरी_तरह\\n', 'Completely\\tपूरी_तरह_से\\n', 'all day\\tपूरेदिन\\n', 'completely\\tपूर्णतः\\n', 'Fully\\tपूर्णतया\\n', 'East\\tपूर्व\\n', 'in the past\\tपूर्व_काल_में\\n', 'formerly\\tपूर्वतः\\n', 'undo\\tपूर्ववत\\n', 'undo\\tपूर्ववत्\\n', 'preparatory\\tपूर्वापर\\n', 'backwards\\tपृष्ठतः\\n', 'petkaiyan\\tपेटकैयाँ\\n', 'full stomach\\tपेटभर\\n', 'Present\\tपेश\\n', 'on foot\\tपैदल\\n', 'every moment\\tप्रति_क्षण\\n', 'waiting\\tप्रतिक्षण\\n', 'every day\\tप्रतिदिन\\n', 'per moment\\tप्रतिपल\\n', 'typical\\tप्रतिरूपतः\\n', 'Per year\\tप्रतिवर्ष\\n', 'Percent\\tप्रतिशत\\n', 'First\\tप्रथम\\n', 'primarily\\tप्रथमतः\\n', 'try_from\\tप्रयत्न_से\\n', 'effortlessly\\tप्रयत्नतः\\n', 'diligently\\tप्रयत्नपूर्वक\\n', 'effortlessly\\tप्रयत्नहीनतः\\n', 'purposefully\\tप्रयोजनतः\\n', 'purposelessly\\tप्रयोजनहीनतः\\n', 'flow_to_side\\tप्रवाह_की_ओर\\n', 'flow_in_direction_in\\tप्रवाह_की_दिशा_में\\n', 'happily\\tप्रसन्नतः\\n', 'happily\\tप्रसन्नतापूर्वक\\n', 'Often\\tप्रायः\\n', 'Fazul\\tफजूल\\n', 'quick\\tफटाफट\\n', 'as a result\\tफलतः\\n', 'consequently\\tफलस्वरूप\\n', 'Fazool\\tफ़ज़ूल\\n', 'Fazul\\tफ़जूल\\n', 'futile\\tफ़िज़ूल\\n', 'useless\\tफ़िजूल\\n', 'at the moment\\tफ़िलहाल\\n', 'Percent\\tफ़ीसदी\\n', 'immediately\\tफ़ौरन\\n', 'waste\\tफिजूल\\n', 'Then\\tफिर\\n', 'again\\tफिर_से\\n', 'At present\\tफिलहाल\\n', 'Percentage\\tफीसदी\\n', 'post haste\\tफुर्ती_से\\n', 'bitterly\\tफूट-फूटकर\\n', 'rhetorically\\tफूटफूट_कर\\n', 'immediately\\tफौरन\\n', 'well\\tबख़ूबी\\n', 'disclaimer\\tबख़ैर\\n', 'sickle\\tबख़ैरीय\\n', 'well\\tबखूबी\\n', 'Well\\tबखैर\\n', 'good luck\\tबखैरीयत\\n', 'without\\tबग़ैर\\n', 'without\\tबगैर\\n', 'time\\tबजे\\n', 'exaggerate\\tबढ़ा-चढ़ाकर\\n', 'exaggerate\\tबढ़ाचढ़ाकर\\n', 'Excellent\\tबढ़िया\\n', 'as\\tबतौर\\n', 'Badstoor\\tबदस्तूर\\n', 'barzori\\tबरज़ोरी\\n', 'barbs\\tबरबस\\n', 'kindly\\tबराए_मेहरबानी\\n', 'barbarously\\tबर्बरतापूर्वक\\n', 'by force\\tबलपूर्वक\\n', 'Enough\\tबस\\n', 'very\\tबहुत\\n', 'very much\\tबहुत_अधिक\\n', 'many times\\tबहुत_बार\\n', 'Frequently\\tबहुधा\\n', 'left\\tबाएँ\\n', 'left side\\tबाएँ_बाज़ू\\n', 'quite often\\tबाक़ायदा\\n', 'after\\tबाद\\n', 'post-air\\tबाद-हवाई\\n', 'Badhawai\\tबादहवाई\\n', 'left\\tबायें\\n', 'Frequently\\tबार_बार\\n', 'Frequently\\tबार-बार\\n', 'frequent\\tबारंबार\\n', 'frequent\\tबारम्बार\\n', 'turn by turn\\tबारी-बारी_से\\n', 'in detail\\tबारीक़ी_से\\n', 'meticulously\\tबारीकी_से\\n', 'Basaur\\tबासऊर\\n', 'Outside\\tबाहर\\n', 'without speaking\\tबिन_बोले\\n', 'unsolicited\\tबिन_माँगे\\n', 'unsolicited\\tबिनमाँगे\\n', 'without\\tबिना\\n', 'without effort\\tबिना_परिश्रम\\n', 'without_log_wrap_k\\tबिना_लाग_लपेट_के\\n', 'with no doubt\\tबिना_शक\\n', 'Absolutely\\tबिलकुल\\n', 'bilanaga\\tबिलानागा\\n', 'badass\\tबिलाशक\\n', 'Absolutely\\tबिल्कुल\\n', 'in between\\tबीच-बीच_में\\n', 'beach_beach\\tबीचम_बीच\\n', 'in the middle\\tबीचों_बीच\\n', 'in the middle\\tबीचों-बीच\\n', 'in the middle\\tबीचोंबीच\\n', 'in the middle\\tबीचोबीच\\n', 'bad\\tबुरा\\n', 'badly\\tबुरी_तरह\\n', 'inexplicable\\tबे-इंतहा\\n', 'restless\\tबेआराम\\n', 'endlessly\\tबेइंतहा\\n', 'defiantly\\tबेखटक\\n', 'freely\\tबेखटके\\n', 'feel free\\tबेझिझक\\n', 'random\\tबेतरतीब\\n', 'random\\tबेतरीक़े\\n', 'wildly\\tबेतहाशा\\n', 'unkindness_se\\tबेदर्दी_से\\n', 'fearlessly\\tबेधड़क\\n', 'meaningless\\tबेमतलब\\n', 'by chance\\tबेमौके\\n', 'ruthlessly\\tबेरहमी_से\\n', 'untimely\\tबेवक़्त\\n', 'untimely\\tबेवक्त\\n', 'without any reason\\tबेवजह\\n', 'Undoubted\\tबेशक\\n', 'impudence\\tबेसाख्ता\\n', 'without thinking\\tबेसोचे_समझे\\n', 'without hesitation\\tबेहिचक\\n', 'plentiful\\tभरपूर\\n', 'full\\tभरपेट\\n', 'to the fullest\\tभरसक\\n', 'trust\\tभरोसे\\n', 'well done\\tभली_भाँति\\n', 'well done\\tभली_भांति\\n', 'well\\tभली-भाँति\\n', 'thoroughly\\tभली-भांति\\n', 'well\\tभलीभाँति\\n', 'well\\tभलीभांति\\n', 'in future_time\\tभविष्य_काल_में\\n', 'in future\\tभविष्य_में\\n', 'Bhinsaare\\tभिनसहरे\\n', 'Bhinsare\\tभिनसारे\\n', 'inside\\tभीतर\\n', 'In the past\\tभूत_काल_में\\n', 'ghost in\\tभूत_में\\n', 'astonished\\tभौंचक्का\\n', 'firmly\\tमजबूती_से\\n', 'forced\\tमजबूरन\\n', 'with strength\\tमज़बूती_से\\n', 'forced\\tमज़बूरन\\n', 'in view\\tमद्देनजर\\n', 'in view\\tमद्देनज़र\\n', 'posthumous\\tमरणोपरांत\\n', 'posthumous\\tमरणोपरान्त\\n', 'posthumous\\tमर्णोत्तर\\n', 'For example\\tमसलन\\n', 'just\\tमहज़\\n', 'big\\tमहा\\n', 'by asking\\tमाँगकर\\n', 'Only\\tमात्र\\n', 'forehead\\tमाथे\\n', 'sorry\\tमाफिक\\n', 'sure\\tमुआफ़िक़\\n', 'as per\\tमुआफिक\\n', 'compared to\\tमुक़ाबले\\n', 'competition\\tमुकाबले\\n', 'mainly\\tमुख्यतः\\n', 'according to\\tमुताबिक\\n', 'corresponding\\tमुताबिक़\\n', 'hardly\\tमुश्किल_से\\n', 'promptness\\tमुस्तैदी_से\\n', 'till death\\tमृत्युपर्यन्त\\n', 'In\\tमें\\n', 'It is a humble request\\tमेहरबानी_करके\\n', 'silence\\tमौन\\n', 'silently\\tमौनतः\\n', 'sure\\tयक़ीनन\\n', 'suddenly\\tयकायक\\n', 'of course\\tयकीनन\\n', 'at least\\tयत्किंचित्\\n', 'due diligence\\tयथाकर्म\\n', 'in order\\tयथाक्रम\\n', 'as far as possible\\tयथाक्षम\\n', 'as a rule\\tयथानियम\\n', 'as crime\\tयथापराध\\n', 'as much as possible\\tयथाभीष्ट\\n', 'Unchanged\\tयथावत\\n', 'as it is\\tयथावत्\\n', 'as desired\\tयथावांछित\\n', 'as far as possible\\tयथाशक्ति\\n', 'as far as possible\\tयथासंभव\\n', 'in due course\\tयथासमय\\n', 'as far as practicable\\tयथासाध्य\\n', 'in place\\tयथास्थान\\n', 'ad libitum\\tयथेच्छ\\n', 'sometimes\\tयदा\\n', 'occasionally\\tयदा-कदा\\n', 'rarely\\tयदाकदा\\n', 'If\\tयदि\\n', 'Here\\tयहाँ\\n', 'Here\\tयहाँ_पर\\n', 'probably\\tयाचिततः\\n', 'tactfully\\tयुक्तिपूर्वक\\n', 'you\\tयूँ\\n', 'just like that\\tयूँ_ही\\n', 'as such\\tयों\\n', 'just like that\\tयों_ही\\n', 'you\\tयौं_ही\\n', 'mere captivating\\tरंचमात्र\\n', 'Slowly slowly\\tरफ्ता-रफ्ता\\n', 'overnight\\tरातों-रात\\n', 'overnight\\tरातोंरात\\n', 'rim-jhim\\tरिम-झिम\\n', 'drizzle\\tरिमझिम\\n', 'drizzle\\tरिमझिम-रिमझिम\\n', 'Intermittently\\tरुकरुककर\\n', 'Daily\\tरोज\\n', 'everyday\\tरोज़\\n', 'everyday\\tरोज़ाना\\n', 'Daily\\tरोजाना\\n', 'Around\\tलगभग\\n', 'Continuously\\tलगातार\\n', 'Laberge\\tलबरेज\\n', 'laborious\\tलबरेज़\\n', 'full\\tलबालब\\n', 'carelessly\\tलापरवाही_से\\n', 'only a trace\\tलेशमात्र\\n', 'refund\\tलौटानी\\n', 'square_in\\tवर्गाकार_में\\n', 'in present\\tवर्तमान_में\\n', 'in fact\\tवस्तुतः\\n', 'There\\tवहाँ\\n', 'Indeed\\tवाकई\\n', 'really\\tवाक़ई\\n', 'Back\\tवापस\\n', 'back\\tवापिस\\n', 'Actually\\tवास्तव_में\\n', 'thoughtfully\\tविचारपूर्वक\\n', 'thoughtlessly\\tविचारहीनतः\\n', 'in due course\\tविचारिततः\\n', 'legally\\tविधानतः\\n', 'lawfully\\tविधिपूर्वक\\n', 'lawfully\\tविधिबत्\\n', 'lawlessly\\tविधिहीनतः\\n', 'politely\\tविनयपूर्वक\\n', 'intermittently\\tविरामतः\\n', 'late\\tविलंबतः\\n', 'late\\tविलंबपूर्वक\\n', 'compulsively\\tविवश_होकर\\n', 'compulsively\\tविवशतः\\n', 'specifically\\tविशिष्टतः\\n', 'especially\\tविशेषकर\\n', 'especially\\tविशेषतः\\n', 'elder\\tवृथा\\n', 'By the way\\tवैसे\\n', 'in vain\\tव्यर्थ\\n', 'in vain\\tव्यर्थ_ही\\n', 'systematically\\tव्यवस्थापूर्वक\\n', 'systematically\\tव्यवस्थिततः\\n', 'hundred percent\\tशत-प्रतिशत\\n', 'verbatim\\tशब्दशः\\n', 'peacefully\\tशांतिपूर्वक\\n', 'peacefully\\tशान्तिपूर्वक\\n', 'Perhaps\\tशायद\\n', 'decently\\tशालीनतः\\n', 'politely\\tशिष्टतः\\n', 'courteously\\tशिष्टाचारपूर्वक\\n', 'dishonestly\\tशिष्टाचारहीनतः\\n', 'Soon\\tशीघ्र\\n', 'quickly\\tशीघ्रतः\\n', 'in the beginning\\tशुरू_में\\n', 'boasting\\tशेखी_मारते_हुए\\n', 'amateur\\tशौकिया\\n', 'resolutely\\tसंकल्पपूर्वक\\n', 'without hesitation\\tसंकोचहीनतः\\n', 'suspiciously\\tसंदिग्धतः\\n', 'as a whole\\tसंपूर्णतः\\n', 'as a whole\\tसंपूर्णतया\\n', 'currently\\tसंप्रति\\n', 'possibly\\tसंभवतः\\n', 'by handling\\tसंभालकर\\n', 'Coincidentally\\tसंयोगवश\\n', 'by chance\\tसंयोगवशात्\\n', 'safe\\tसकुशल\\n', 'strict\\tसख़्त\\n', 'Strict\\tसख्त\\n', 'proud\\tसगर्व\\n', 'Very true\\tसच-सच\\n', 'Really\\tसचमुच\\n', 'true_muchchi\\tसच्ची_मुच्ची\\n', 'true man\\tसच्ची-मुच्ची\\n', 'Satguna\\tसतगुना\\n', 'Continuous\\tसतत\\n', 'respectfully\\tसत्कारपूर्वक\\n', 'really\\tसत्यतः\\n', 'Always\\tसदा\\n', 'body\\tसदेह\\n', 'Always\\tसदैव\\n', 'adjacent\\tसन्निकट\\n', 'wife\\tसपत्नीक\\n', 'purpose\\tसप्रयोजन\\n', 'all together\\tसब_मिलाकर\\n', 'in all\\tसब_में\\n', 'First of all\\tसबसे_पहले\\n', 'in the morning\\tसबेरे\\n', 'all_side\\tसभी_तरफ़\\n', 'civilly\\tसभ्यतः\\n', 'before\\tसमक्ष\\n', 'consciously\\tसमझ_बूझ_कर\\n', 'deliberately\\tसमझ-बूझकर\\n']\n"
     ]
    }
   ],
   "metadata": {}
  }
 ],
 "metadata": {
  "orig_nbformat": 4,
  "language_info": {
   "name": "python",
   "version": "3.7.6",
   "mimetype": "text/x-python",
   "codemirror_mode": {
    "name": "ipython",
    "version": 3
   },
   "pygments_lexer": "ipython3",
   "nbconvert_exporter": "python",
   "file_extension": ".py"
  },
  "kernelspec": {
   "name": "python3",
   "display_name": "Python 3.7.6 64-bit ('base': conda)"
  },
  "interpreter": {
   "hash": "c9d7c5f942732adfe479bc5a6b28c2059deee9c0f89f6eb5f23af51c2d3646a3"
  }
 },
 "nbformat": 4,
 "nbformat_minor": 2
}